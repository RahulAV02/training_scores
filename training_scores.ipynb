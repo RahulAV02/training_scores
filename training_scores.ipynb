{
  "nbformat": 4,
  "nbformat_minor": 0,
  "metadata": {
    "colab": {
      "provenance": []
    },
    "kernelspec": {
      "name": "python3",
      "display_name": "Python 3"
    },
    "language_info": {
      "name": "python"
    }
  },
  "cells": [
    {
      "cell_type": "code",
      "execution_count": null,
      "metadata": {
        "id": "XHWYkbJLSJKn"
      },
      "outputs": [],
      "source": [
        "# importing libraries\n",
        "import numpy as nm\n",
        "import matplotlib.pyplot as mtp\n",
        "import pandas as pd\n"
      ]
    },
    {
      "cell_type": "code",
      "source": [
        "#importing datasets\n",
        "data_set= pd.read_csv('/content/sample_data/50_Startups.csv')"
      ],
      "metadata": {
        "id": "O7OUCKQuSPq6"
      },
      "execution_count": null,
      "outputs": []
    },
    {
      "cell_type": "code",
      "source": [
        "#Extracting Independent and dependent Variable\n",
        "x= data_set.iloc[:, :-1].values\n",
        "y= data_set.iloc[:, 4].values"
      ],
      "metadata": {
        "id": "bwSSAO1zTAYC"
      },
      "execution_count": null,
      "outputs": []
    },
    {
      "cell_type": "code",
      "source": [
        "#Catgorical data\n",
        "from sklearn.preprocessing import LabelEncoder, OneHotEncoder\n",
        "labelencoder_x= LabelEncoder()\n",
        "x[:, 3]= labelencoder_x.fit_transform(x[:,3])"
      ],
      "metadata": {
        "id": "oMX1RqDjTDko"
      },
      "execution_count": null,
      "outputs": []
    },
    {
      "cell_type": "code",
      "source": [
        "#avoiding the dummy variable trap:\n",
        "x = x[:, 1:]"
      ],
      "metadata": {
        "id": "Sc78SeoBTQfl"
      },
      "execution_count": null,
      "outputs": []
    },
    {
      "cell_type": "code",
      "source": [
        "# Splitting the dataset into training and test set.\n",
        "from sklearn.model_selection import train_test_split\n",
        "x_train, x_test, y_train, y_test= train_test_split(x, y, test_size= 0.2, random_state=0)"
      ],
      "metadata": {
        "id": "0YjMlKkXTRZ1"
      },
      "execution_count": null,
      "outputs": []
    },
    {
      "cell_type": "code",
      "source": [
        "#Fitting the MLR model to the training set:\n",
        "from sklearn.linear_model import LinearRegression\n",
        "regressor= LinearRegression()\n",
        "regressor.fit(x_train, y_train)"
      ],
      "metadata": {
        "colab": {
          "base_uri": "https://localhost:8080/"
        },
        "id": "bGaDQBqdTUZP",
        "outputId": "cfaf95cb-8337-4090-907a-4ce82cafb5a8"
      },
      "execution_count": null,
      "outputs": [
        {
          "output_type": "execute_result",
          "data": {
            "text/plain": [
              "LinearRegression()"
            ]
          },
          "metadata": {},
          "execution_count": 12
        }
      ]
    },
    {
      "cell_type": "code",
      "source": [
        "#Predicting the Test set result;\n",
        "y_pred= regressor.predict(x_test)\n",
        "\n",
        "print('Train Score: ', regressor.score(x_train, y_train))\n",
        "print('Test Score: ', regressor.score(x_test, y_test))"
      ],
      "metadata": {
        "colab": {
          "base_uri": "https://localhost:8080/"
        },
        "id": "BHYbx0ktTW1J",
        "outputId": "dde675a7-e5c3-48a7-8319-08e4f3fb39d5"
      },
      "execution_count": null,
      "outputs": [
        {
          "output_type": "stream",
          "name": "stdout",
          "text": [
            "Train Score:  0.6479579561872042\n",
            "Test Score:  0.3161625677198352\n"
          ]
        }
      ]
    }
  ]
}